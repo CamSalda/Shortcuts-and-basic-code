{
 "cells": [
  {
   "cell_type": "code",
   "execution_count": 7,
   "id": "c7255008-91cd-436a-8b8f-7c82168d7658",
   "metadata": {},
   "outputs": [],
   "source": [
    "import pandas as pd\n",
    "import yfinance as yfin\n",
    "\n",
    "import datetime as dt"
   ]
  },
  {
   "cell_type": "markdown",
   "id": "1bf987b1-a948-4559-b69c-192a31bab9b8",
   "metadata": {},
   "source": [
    "## Define ticker and dates"
   ]
  },
  {
   "cell_type": "code",
   "execution_count": 5,
   "id": "a957f38d-7120-4c4b-aa29-73f09fea9ff8",
   "metadata": {},
   "outputs": [],
   "source": [
    "start = dt.date(2017,12,31)\n",
    "end = dt.date(2022,12,31)\n",
    "\n",
    "tickers = [\"MSFT\"]"
   ]
  },
  {
   "cell_type": "markdown",
   "id": "e06b6fe3-bd2b-41f5-b3c6-e2d973433cbf",
   "metadata": {},
   "source": [
    "## Import data"
   ]
  },
  {
   "cell_type": "code",
   "execution_count": 8,
   "id": "866c41bb-1594-495c-9f38-36dac03d5827",
   "metadata": {},
   "outputs": [
    {
     "name": "stdout",
     "output_type": "stream",
     "text": [
      "[*********************100%***********************]  1 of 1 completed\n"
     ]
    }
   ],
   "source": [
    "\n",
    "df = pd.DataFrame(pdr.get_data_yahoo(tickers, start, end)[\"Adj Close\"])"
   ]
  },
  {
   "cell_type": "markdown",
   "id": "cf15bdae-910f-4769-af4b-92fc614edcd7",
   "metadata": {},
   "source": [
    "## Set the date format of index"
   ]
  },
  {
   "cell_type": "code",
   "execution_count": 10,
   "id": "fa41be3b-ad62-4ca4-8d4b-1d6a5d6e2b76",
   "metadata": {},
   "outputs": [],
   "source": [
    "df.index = pd.DatetimeIndex(df.index).to_period('b')"
   ]
  },
  {
   "cell_type": "code",
   "execution_count": 11,
   "id": "effb5731-32ec-4ec2-ade0-653a9589cfff",
   "metadata": {},
   "outputs": [
    {
     "data": {
      "text/html": [
       "<div>\n",
       "<style scoped>\n",
       "    .dataframe tbody tr th:only-of-type {\n",
       "        vertical-align: middle;\n",
       "    }\n",
       "\n",
       "    .dataframe tbody tr th {\n",
       "        vertical-align: top;\n",
       "    }\n",
       "\n",
       "    .dataframe thead th {\n",
       "        text-align: right;\n",
       "    }\n",
       "</style>\n",
       "<table border=\"1\" class=\"dataframe\">\n",
       "  <thead>\n",
       "    <tr style=\"text-align: right;\">\n",
       "      <th></th>\n",
       "      <th>Adj Close</th>\n",
       "    </tr>\n",
       "    <tr>\n",
       "      <th>Date</th>\n",
       "      <th></th>\n",
       "    </tr>\n",
       "  </thead>\n",
       "  <tbody>\n",
       "    <tr>\n",
       "      <th>2018-01-02</th>\n",
       "      <td>80.229012</td>\n",
       "    </tr>\n",
       "    <tr>\n",
       "      <th>2018-01-03</th>\n",
       "      <td>80.602379</td>\n",
       "    </tr>\n",
       "    <tr>\n",
       "      <th>2018-01-04</th>\n",
       "      <td>81.311821</td>\n",
       "    </tr>\n",
       "    <tr>\n",
       "      <th>2018-01-05</th>\n",
       "      <td>82.319908</td>\n",
       "    </tr>\n",
       "    <tr>\n",
       "      <th>2018-01-08</th>\n",
       "      <td>82.403931</td>\n",
       "    </tr>\n",
       "    <tr>\n",
       "      <th>...</th>\n",
       "      <td>...</td>\n",
       "    </tr>\n",
       "    <tr>\n",
       "      <th>2022-12-23</th>\n",
       "      <td>236.631790</td>\n",
       "    </tr>\n",
       "    <tr>\n",
       "      <th>2022-12-27</th>\n",
       "      <td>234.877365</td>\n",
       "    </tr>\n",
       "    <tr>\n",
       "      <th>2022-12-28</th>\n",
       "      <td>232.468735</td>\n",
       "    </tr>\n",
       "    <tr>\n",
       "      <th>2022-12-29</th>\n",
       "      <td>238.891754</td>\n",
       "    </tr>\n",
       "    <tr>\n",
       "      <th>2022-12-30</th>\n",
       "      <td>237.712234</td>\n",
       "    </tr>\n",
       "  </tbody>\n",
       "</table>\n",
       "<p>1259 rows × 1 columns</p>\n",
       "</div>"
      ],
      "text/plain": [
       "             Adj Close\n",
       "Date                  \n",
       "2018-01-02   80.229012\n",
       "2018-01-03   80.602379\n",
       "2018-01-04   81.311821\n",
       "2018-01-05   82.319908\n",
       "2018-01-08   82.403931\n",
       "...                ...\n",
       "2022-12-23  236.631790\n",
       "2022-12-27  234.877365\n",
       "2022-12-28  232.468735\n",
       "2022-12-29  238.891754\n",
       "2022-12-30  237.712234\n",
       "\n",
       "[1259 rows x 1 columns]"
      ]
     },
     "execution_count": 11,
     "metadata": {},
     "output_type": "execute_result"
    }
   ],
   "source": [
    "df"
   ]
  },
  {
   "cell_type": "code",
   "execution_count": null,
   "id": "b74972e9-273e-4c4e-8e58-25f8b3498dd4",
   "metadata": {},
   "outputs": [],
   "source": []
  }
 ],
 "metadata": {
  "kernelspec": {
   "display_name": "Python 3 (ipykernel)",
   "language": "python",
   "name": "python3"
  },
  "language_info": {
   "codemirror_mode": {
    "name": "ipython",
    "version": 3
   },
   "file_extension": ".py",
   "mimetype": "text/x-python",
   "name": "python",
   "nbconvert_exporter": "python",
   "pygments_lexer": "ipython3",
   "version": "3.9.12"
  }
 },
 "nbformat": 4,
 "nbformat_minor": 5
}
