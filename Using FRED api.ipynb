{
 "cells": [
  {
   "cell_type": "code",
   "execution_count": 1,
   "id": "5734fa23-fe5a-4998-834e-989ae6cc74f7",
   "metadata": {},
   "outputs": [],
   "source": [
    "import fredapi as fa\n",
    "import pandas as pd\n",
    "import datetime as dt"
   ]
  },
  {
   "cell_type": "code",
   "execution_count": 5,
   "id": "21517292-3a5b-4464-b35c-629c0ac4e997",
   "metadata": {},
   "outputs": [],
   "source": [
    "pd.options.display.max_rows = 20"
   ]
  },
  {
   "cell_type": "markdown",
   "id": "bb4b94e5-ff90-47d4-b672-beceb275c2f0",
   "metadata": {},
   "source": [
    "## Set the api key"
   ]
  },
  {
   "cell_type": "code",
   "execution_count": 2,
   "id": "337c1ec8-eb05-4166-bb4e-1a4924905963",
   "metadata": {},
   "outputs": [],
   "source": [
    "f = open('C:/Users/camil/OneDrive/Documentos/Python/FRED api key .txt', 'r')\n",
    "fred = fa.Fred(f.read())"
   ]
  },
  {
   "cell_type": "markdown",
   "id": "3df3357b-1833-42a2-9f5c-0df873f70147",
   "metadata": {},
   "source": [
    "## Set the dates and the variable code"
   ]
  },
  {
   "cell_type": "code",
   "execution_count": 3,
   "id": "c0f55df1-16fd-47b7-90b3-5d77555ba045",
   "metadata": {},
   "outputs": [],
   "source": [
    "start = pd.to_datetime(\"2020-01-01\")\n",
    "end = pd.to_datetime(\"2023-08-01\")\n",
    "var_code = \"FEDFUNDS\""
   ]
  },
  {
   "cell_type": "markdown",
   "id": "5c61229e-cc83-4f5c-a738-55c94ea4a98a",
   "metadata": {},
   "source": [
    "## Import the data"
   ]
  },
  {
   "cell_type": "code",
   "execution_count": 6,
   "id": "872fa907-b528-4db2-8074-efe4a36f430f",
   "metadata": {},
   "outputs": [
    {
     "data": {
      "text/html": [
       "<div>\n",
       "<style scoped>\n",
       "    .dataframe tbody tr th:only-of-type {\n",
       "        vertical-align: middle;\n",
       "    }\n",
       "\n",
       "    .dataframe tbody tr th {\n",
       "        vertical-align: top;\n",
       "    }\n",
       "\n",
       "    .dataframe thead th {\n",
       "        text-align: right;\n",
       "    }\n",
       "</style>\n",
       "<table border=\"1\" class=\"dataframe\">\n",
       "  <thead>\n",
       "    <tr style=\"text-align: right;\">\n",
       "      <th></th>\n",
       "      <th>rate</th>\n",
       "    </tr>\n",
       "  </thead>\n",
       "  <tbody>\n",
       "    <tr>\n",
       "      <th>2020-01-01</th>\n",
       "      <td>1.55</td>\n",
       "    </tr>\n",
       "    <tr>\n",
       "      <th>2020-02-01</th>\n",
       "      <td>1.58</td>\n",
       "    </tr>\n",
       "    <tr>\n",
       "      <th>2020-03-01</th>\n",
       "      <td>0.65</td>\n",
       "    </tr>\n",
       "    <tr>\n",
       "      <th>2020-04-01</th>\n",
       "      <td>0.05</td>\n",
       "    </tr>\n",
       "    <tr>\n",
       "      <th>2020-05-01</th>\n",
       "      <td>0.05</td>\n",
       "    </tr>\n",
       "    <tr>\n",
       "      <th>...</th>\n",
       "      <td>...</td>\n",
       "    </tr>\n",
       "    <tr>\n",
       "      <th>2023-04-01</th>\n",
       "      <td>4.83</td>\n",
       "    </tr>\n",
       "    <tr>\n",
       "      <th>2023-05-01</th>\n",
       "      <td>5.06</td>\n",
       "    </tr>\n",
       "    <tr>\n",
       "      <th>2023-06-01</th>\n",
       "      <td>5.08</td>\n",
       "    </tr>\n",
       "    <tr>\n",
       "      <th>2023-07-01</th>\n",
       "      <td>5.12</td>\n",
       "    </tr>\n",
       "    <tr>\n",
       "      <th>2023-08-01</th>\n",
       "      <td>5.33</td>\n",
       "    </tr>\n",
       "  </tbody>\n",
       "</table>\n",
       "<p>44 rows × 1 columns</p>\n",
       "</div>"
      ],
      "text/plain": [
       "            rate\n",
       "2020-01-01  1.55\n",
       "2020-02-01  1.58\n",
       "2020-03-01  0.65\n",
       "2020-04-01  0.05\n",
       "2020-05-01  0.05\n",
       "...          ...\n",
       "2023-04-01  4.83\n",
       "2023-05-01  5.06\n",
       "2023-06-01  5.08\n",
       "2023-07-01  5.12\n",
       "2023-08-01  5.33\n",
       "\n",
       "[44 rows x 1 columns]"
      ]
     },
     "execution_count": 6,
     "metadata": {},
     "output_type": "execute_result"
    }
   ],
   "source": [
    "df = pd.DataFrame(fred.get_series(var_code), columns = [\"rate\"])\n",
    "\n",
    "df = df.loc[start:end]\n",
    "df"
   ]
  }
 ],
 "metadata": {
  "kernelspec": {
   "display_name": "Python 3 (ipykernel)",
   "language": "python",
   "name": "python3"
  },
  "language_info": {
   "codemirror_mode": {
    "name": "ipython",
    "version": 3
   },
   "file_extension": ".py",
   "mimetype": "text/x-python",
   "name": "python",
   "nbconvert_exporter": "python",
   "pygments_lexer": "ipython3",
   "version": "3.9.12"
  }
 },
 "nbformat": 4,
 "nbformat_minor": 5
}
